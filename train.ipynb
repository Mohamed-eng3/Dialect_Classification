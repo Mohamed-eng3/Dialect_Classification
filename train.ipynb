{
 "cells": [
  {
   "cell_type": "code",
   "execution_count": 1,
   "id": "1f085cab",
   "metadata": {
    "execution": {
     "iopub.execute_input": "2022-03-13T10:51:05.025416Z",
     "iopub.status.busy": "2022-03-13T10:51:05.017976Z",
     "iopub.status.idle": "2022-03-13T10:51:05.904953Z",
     "shell.execute_reply": "2022-03-13T10:51:05.905525Z"
    },
    "papermill": {
     "duration": 0.929946,
     "end_time": "2022-03-13T10:51:05.905805",
     "exception": false,
     "start_time": "2022-03-13T10:51:04.975859",
     "status": "completed"
    },
    "tags": []
   },
   "outputs": [],
   "source": [
    "import pandas as pd\n",
    "from sklearn.model_selection import train_test_split\n",
    "from sklearn.feature_extraction.text import CountVectorizer, TfidfVectorizer\n",
    "from sklearn.linear_model import LogisticRegression\n",
    "from sklearn.svm import LinearSVC\n",
    "from sklearn.pipeline import make_pipeline\n",
    "from sklearn import metrics"
   ]
  },
  {
   "cell_type": "code",
   "execution_count": 2,
   "id": "d932636c",
   "metadata": {
    "execution": {
     "iopub.execute_input": "2022-03-13T10:51:05.948760Z",
     "iopub.status.busy": "2022-03-13T10:51:05.948139Z",
     "iopub.status.idle": "2022-03-13T10:51:06.968564Z",
     "shell.execute_reply": "2022-03-13T10:51:06.969420Z"
    },
    "papermill": {
     "duration": 1.043703,
     "end_time": "2022-03-13T10:51:06.969578",
     "exception": false,
     "start_time": "2022-03-13T10:51:05.925875",
     "status": "completed"
    },
    "tags": []
   },
   "outputs": [],
   "source": [
    "data = pd.read_pickle(\"C:/Users/HP/AIM_Dialect_Prediction/processed_data.pkl\")"
   ]
  },
  {
   "cell_type": "code",
   "execution_count": 3,
   "id": "e9596739",
   "metadata": {
    "execution": {
     "iopub.execute_input": "2022-03-13T10:51:07.040374Z",
     "iopub.status.busy": "2022-03-13T10:51:07.039598Z",
     "iopub.status.idle": "2022-03-13T10:51:07.060068Z",
     "shell.execute_reply": "2022-03-13T10:51:07.061036Z"
    },
    "papermill": {
     "duration": 0.060216,
     "end_time": "2022-03-13T10:51:07.061230",
     "exception": false,
     "start_time": "2022-03-13T10:51:07.001014",
     "status": "completed"
    },
    "tags": []
   },
   "outputs": [
    {
     "data": {
      "text/html": [
       "<div>\n",
       "<style scoped>\n",
       "    .dataframe tbody tr th:only-of-type {\n",
       "        vertical-align: middle;\n",
       "    }\n",
       "\n",
       "    .dataframe tbody tr th {\n",
       "        vertical-align: top;\n",
       "    }\n",
       "\n",
       "    .dataframe thead th {\n",
       "        text-align: right;\n",
       "    }\n",
       "</style>\n",
       "<table border=\"1\" class=\"dataframe\">\n",
       "  <thead>\n",
       "    <tr style=\"text-align: right;\">\n",
       "      <th></th>\n",
       "      <th>id</th>\n",
       "      <th>dialect</th>\n",
       "      <th>Tweets</th>\n",
       "    </tr>\n",
       "  </thead>\n",
       "  <tbody>\n",
       "    <tr>\n",
       "      <th>0</th>\n",
       "      <td>1175358310087892992</td>\n",
       "      <td>IQ</td>\n",
       "      <td>بالنهاية ينتفض يغير</td>\n",
       "    </tr>\n",
       "    <tr>\n",
       "      <th>1</th>\n",
       "      <td>1175416117793349632</td>\n",
       "      <td>IQ</td>\n",
       "      <td>يعني محسوب البشر حيونه ووحشيه وتطلبون الغرب ي...</td>\n",
       "    </tr>\n",
       "    <tr>\n",
       "      <th>2</th>\n",
       "      <td>1175450108898565888</td>\n",
       "      <td>IQ</td>\n",
       "      <td>مبين كلامه خليجي</td>\n",
       "    </tr>\n",
       "    <tr>\n",
       "      <th>3</th>\n",
       "      <td>1175471073770573824</td>\n",
       "      <td>IQ</td>\n",
       "      <td>يسلملي مرورك وروحك الحلوه</td>\n",
       "    </tr>\n",
       "    <tr>\n",
       "      <th>4</th>\n",
       "      <td>1175496913145217024</td>\n",
       "      <td>IQ</td>\n",
       "      <td>وين الغيبه اخ محمد</td>\n",
       "    </tr>\n",
       "  </tbody>\n",
       "</table>\n",
       "</div>"
      ],
      "text/plain": [
       "                    id dialect  \\\n",
       "0  1175358310087892992      IQ   \n",
       "1  1175416117793349632      IQ   \n",
       "2  1175450108898565888      IQ   \n",
       "3  1175471073770573824      IQ   \n",
       "4  1175496913145217024      IQ   \n",
       "\n",
       "                                              Tweets  \n",
       "0                                بالنهاية ينتفض يغير  \n",
       "1   يعني محسوب البشر حيونه ووحشيه وتطلبون الغرب ي...  \n",
       "2                                   مبين كلامه خليجي  \n",
       "3                          يسلملي مرورك وروحك الحلوه  \n",
       "4                                وين الغيبه اخ محمد   "
      ]
     },
     "execution_count": 3,
     "metadata": {},
     "output_type": "execute_result"
    }
   ],
   "source": [
    "data.head()"
   ]
  },
  {
   "cell_type": "code",
   "execution_count": 4,
   "id": "d45e1ec1",
   "metadata": {
    "execution": {
     "iopub.execute_input": "2022-03-13T10:51:07.136774Z",
     "iopub.status.busy": "2022-03-13T10:51:07.135755Z",
     "iopub.status.idle": "2022-03-13T10:51:07.211624Z",
     "shell.execute_reply": "2022-03-13T10:51:07.213424Z"
    },
    "papermill": {
     "duration": 0.117191,
     "end_time": "2022-03-13T10:51:07.213763",
     "exception": false,
     "start_time": "2022-03-13T10:51:07.096572",
     "status": "completed"
    },
    "tags": []
   },
   "outputs": [
    {
     "data": {
      "text/plain": [
       "EG    57636\n",
       "PL    43742\n",
       "KW    42109\n",
       "LY    36499\n",
       "QA    31069\n",
       "JO    27921\n",
       "LB    27617\n",
       "SA    26832\n",
       "AE    26296\n",
       "BH    26292\n",
       "OM    19116\n",
       "SY    16242\n",
       "DZ    16183\n",
       "IQ    15497\n",
       "SD    14434\n",
       "MA    11539\n",
       "YE     9927\n",
       "TN     9246\n",
       "Name: dialect, dtype: int64"
      ]
     },
     "execution_count": 4,
     "metadata": {},
     "output_type": "execute_result"
    }
   ],
   "source": [
    "data['dialect'].value_counts()"
   ]
  },
  {
   "cell_type": "code",
   "execution_count": 5,
   "id": "651ea450",
   "metadata": {
    "execution": {
     "iopub.execute_input": "2022-03-13T10:51:07.267085Z",
     "iopub.status.busy": "2022-03-13T10:51:07.265550Z",
     "iopub.status.idle": "2022-03-13T10:51:07.267746Z",
     "shell.execute_reply": "2022-03-13T10:51:07.268235Z"
    },
    "papermill": {
     "duration": 0.030107,
     "end_time": "2022-03-13T10:51:07.268376",
     "exception": false,
     "start_time": "2022-03-13T10:51:07.238269",
     "status": "completed"
    },
    "tags": []
   },
   "outputs": [],
   "source": [
    "def print_report(pipe, x_test, y_test):\n",
    "    y_pred = pipe.predict(x_test)\n",
    "    report = metrics.classification_report(y_test, y_pred)\n",
    "    print(report)\n",
    "    print(\"accuracy: {:0.3f}\".format(metrics.accuracy_score(y_test, y_pred)))"
   ]
  },
  {
   "cell_type": "code",
   "execution_count": 6,
   "id": "a363b6c0",
   "metadata": {
    "execution": {
     "iopub.execute_input": "2022-03-13T10:51:07.332261Z",
     "iopub.status.busy": "2022-03-13T10:51:07.331478Z",
     "iopub.status.idle": "2022-03-13T10:51:08.003735Z",
     "shell.execute_reply": "2022-03-13T10:51:08.002886Z"
    },
    "papermill": {
     "duration": 0.712998,
     "end_time": "2022-03-13T10:51:08.003887",
     "exception": false,
     "start_time": "2022-03-13T10:51:07.290889",
     "status": "completed"
    },
    "tags": []
   },
   "outputs": [],
   "source": [
    "train_sentences, val_sentences , train_labels, val_labels = train_test_split(data.Tweets, data.dialect, test_size=0.05, stratify=data.dialect)"
   ]
  },
  {
   "cell_type": "markdown",
   "id": "fbf4e593",
   "metadata": {
    "papermill": {
     "duration": 0.020537,
     "end_time": "2022-03-13T10:51:08.047497",
     "exception": false,
     "start_time": "2022-03-13T10:51:08.026960",
     "status": "completed"
    },
    "tags": []
   },
   "source": [
    "# ML"
   ]
  },
  {
   "cell_type": "code",
   "execution_count": 7,
   "id": "da303e3c",
   "metadata": {
    "execution": {
     "iopub.execute_input": "2022-03-13T10:51:08.092935Z",
     "iopub.status.busy": "2022-03-13T10:51:08.092203Z",
     "iopub.status.idle": "2022-03-13T10:51:08.094386Z",
     "shell.execute_reply": "2022-03-13T10:51:08.094830Z"
    },
    "papermill": {
     "duration": 0.026681,
     "end_time": "2022-03-13T10:51:08.094958",
     "exception": false,
     "start_time": "2022-03-13T10:51:08.068277",
     "status": "completed"
    },
    "tags": []
   },
   "outputs": [],
   "source": [
    "# vec = CountVectorizer()\n",
    "# clf = LogisticRegression()\n",
    "# pipe = make_pipeline(vec, clf)\n",
    "# pipe.fit(train_sentences, train_labels);"
   ]
  },
  {
   "cell_type": "code",
   "execution_count": 8,
   "id": "ead585b0",
   "metadata": {
    "execution": {
     "iopub.execute_input": "2022-03-13T10:51:08.140405Z",
     "iopub.status.busy": "2022-03-13T10:51:08.138934Z",
     "iopub.status.idle": "2022-03-13T10:51:08.141075Z",
     "shell.execute_reply": "2022-03-13T10:51:08.141518Z"
    },
    "papermill": {
     "duration": 0.026187,
     "end_time": "2022-03-13T10:51:08.141642",
     "exception": false,
     "start_time": "2022-03-13T10:51:08.115455",
     "status": "completed"
    },
    "tags": []
   },
   "outputs": [],
   "source": [
    "# print_report(pipe, val_sentences, val_labels) #95 5 stratify"
   ]
  },
  {
   "cell_type": "code",
   "execution_count": 9,
   "id": "a98a3543",
   "metadata": {
    "execution": {
     "iopub.execute_input": "2022-03-13T10:51:08.225996Z",
     "iopub.status.busy": "2022-03-13T10:51:08.194942Z",
     "iopub.status.idle": "2022-03-13T10:53:12.116967Z",
     "shell.execute_reply": "2022-03-13T10:53:12.116008Z"
    },
    "papermill": {
     "duration": 123.954763,
     "end_time": "2022-03-13T10:53:12.117187",
     "exception": false,
     "start_time": "2022-03-13T10:51:08.162424",
     "status": "completed"
    },
    "tags": []
   },
   "outputs": [
    {
     "data": {
      "text/plain": [
       "Pipeline(steps=[('tfidfvectorizer', TfidfVectorizer(ngram_range=(1, 2))),\n",
       "                ('linearsvc', LinearSVC())])"
      ]
     },
     "execution_count": 9,
     "metadata": {},
     "output_type": "execute_result"
    }
   ],
   "source": [
    "vec = TfidfVectorizer(ngram_range=(1,2))\n",
    "clf = LinearSVC()\n",
    "pipe_tfidf = make_pipeline(vec, clf)\n",
    "pipe_tfidf.fit(train_sentences, train_labels)"
   ]
  },
  {
   "cell_type": "code",
   "execution_count": 10,
   "id": "b6367568",
   "metadata": {
    "execution": {
     "iopub.execute_input": "2022-03-13T10:53:12.221014Z",
     "iopub.status.busy": "2022-03-13T10:53:12.218040Z",
     "iopub.status.idle": "2022-03-13T10:53:14.339490Z",
     "shell.execute_reply": "2022-03-13T10:53:14.340127Z"
    },
    "papermill": {
     "duration": 2.177555,
     "end_time": "2022-03-13T10:53:14.340336",
     "exception": false,
     "start_time": "2022-03-13T10:53:12.162781",
     "status": "completed"
    },
    "tags": []
   },
   "outputs": [
    {
     "name": "stdout",
     "output_type": "stream",
     "text": [
      "              precision    recall  f1-score   support\n",
      "\n",
      "          AE       0.46      0.46      0.46      1315\n",
      "          BH       0.45      0.35      0.39      1315\n",
      "          DZ       0.64      0.56      0.59       809\n",
      "          EG       0.70      0.88      0.78      2882\n",
      "          IQ       0.68      0.53      0.59       775\n",
      "          JO       0.45      0.37      0.41      1396\n",
      "          KW       0.51      0.64      0.57      2105\n",
      "          LB       0.62      0.71      0.66      1381\n",
      "          LY       0.67      0.72      0.69      1825\n",
      "          MA       0.75      0.63      0.68       577\n",
      "          OM       0.48      0.35      0.40       956\n",
      "          PL       0.50      0.57      0.54      2187\n",
      "          QA       0.48      0.53      0.50      1553\n",
      "          SA       0.47      0.49      0.48      1342\n",
      "          SD       0.78      0.60      0.67       722\n",
      "          SY       0.53      0.33      0.41       812\n",
      "          TN       0.71      0.48      0.57       462\n",
      "          YE       0.50      0.20      0.28       496\n",
      "\n",
      "    accuracy                           0.57     22910\n",
      "   macro avg       0.58      0.52      0.54     22910\n",
      "weighted avg       0.57      0.57      0.56     22910\n",
      "\n",
      "accuracy: 0.569\n"
     ]
    }
   ],
   "source": [
    "print_report(pipe_tfidf, val_sentences, val_labels) #95 5 stratify"
   ]
  },
  {
   "cell_type": "markdown",
   "id": "471aabc3",
   "metadata": {
    "papermill": {
     "duration": 0.021882,
     "end_time": "2022-03-13T10:53:14.385488",
     "exception": false,
     "start_time": "2022-03-13T10:53:14.363606",
     "status": "completed"
    },
    "tags": []
   },
   "source": [
    "# DL"
   ]
  },
  {
   "cell_type": "code",
   "execution_count": 11,
   "id": "bdbe4b53",
   "metadata": {
    "execution": {
     "iopub.execute_input": "2022-03-13T10:53:14.433689Z",
     "iopub.status.busy": "2022-03-13T10:53:14.433133Z",
     "iopub.status.idle": "2022-03-13T10:53:18.976345Z",
     "shell.execute_reply": "2022-03-13T10:53:18.975574Z"
    },
    "papermill": {
     "duration": 4.569238,
     "end_time": "2022-03-13T10:53:18.976519",
     "exception": false,
     "start_time": "2022-03-13T10:53:14.407281",
     "status": "completed"
    },
    "tags": []
   },
   "outputs": [],
   "source": [
    "from collections import Counter\n",
    "from tensorflow.keras.preprocessing.text import Tokenizer\n",
    "from tensorflow import keras\n",
    "from tensorflow.keras import layers\n",
    "from tensorflow.keras.preprocessing.sequence import pad_sequences\n",
    "from joblib import dump, load"
   ]
  },
  {
   "cell_type": "code",
   "execution_count": 12,
   "id": "315cc009",
   "metadata": {
    "execution": {
     "iopub.execute_input": "2022-03-13T10:53:19.057105Z",
     "iopub.status.busy": "2022-03-13T10:53:19.055702Z",
     "iopub.status.idle": "2022-03-13T10:53:19.058483Z",
     "shell.execute_reply": "2022-03-13T10:53:19.057833Z"
    },
    "papermill": {
     "duration": 0.045131,
     "end_time": "2022-03-13T10:53:19.058640",
     "exception": false,
     "start_time": "2022-03-13T10:53:19.013509",
     "status": "completed"
    },
    "tags": []
   },
   "outputs": [],
   "source": [
    "def counter_word(text_col):\n",
    "    count = Counter()\n",
    "    for text in text_col.values:\n",
    "        for word in text.split():\n",
    "            count[word] += 1\n",
    "    return count"
   ]
  },
  {
   "cell_type": "code",
   "execution_count": 13,
   "id": "0a982ba1",
   "metadata": {
    "execution": {
     "iopub.execute_input": "2022-03-13T10:53:19.138682Z",
     "iopub.status.busy": "2022-03-13T10:53:19.137932Z",
     "iopub.status.idle": "2022-03-13T10:53:21.346135Z",
     "shell.execute_reply": "2022-03-13T10:53:21.345655Z"
    },
    "papermill": {
     "duration": 2.251771,
     "end_time": "2022-03-13T10:53:21.346291",
     "exception": false,
     "start_time": "2022-03-13T10:53:19.094520",
     "status": "completed"
    },
    "tags": []
   },
   "outputs": [],
   "source": [
    "counter = counter_word(train_sentences)"
   ]
  },
  {
   "cell_type": "code",
   "execution_count": 14,
   "id": "62306061",
   "metadata": {
    "execution": {
     "iopub.execute_input": "2022-03-13T10:53:21.396088Z",
     "iopub.status.busy": "2022-03-13T10:53:21.395572Z",
     "iopub.status.idle": "2022-03-13T10:53:21.400992Z",
     "shell.execute_reply": "2022-03-13T10:53:21.400573Z"
    },
    "papermill": {
     "duration": 0.031896,
     "end_time": "2022-03-13T10:53:21.401103",
     "exception": false,
     "start_time": "2022-03-13T10:53:21.369207",
     "status": "completed"
    },
    "tags": []
   },
   "outputs": [
    {
     "data": {
      "text/plain": [
       "506175"
      ]
     },
     "execution_count": 14,
     "metadata": {},
     "output_type": "execute_result"
    }
   ],
   "source": [
    "num_unique_words = len(counter)\n",
    "num_unique_words"
   ]
  },
  {
   "cell_type": "code",
   "execution_count": 15,
   "id": "a31416c9",
   "metadata": {
    "execution": {
     "iopub.execute_input": "2022-03-13T10:53:21.469686Z",
     "iopub.status.busy": "2022-03-13T10:53:21.454988Z",
     "iopub.status.idle": "2022-03-13T10:53:21.534928Z",
     "shell.execute_reply": "2022-03-13T10:53:21.535366Z"
    },
    "papermill": {
     "duration": 0.111303,
     "end_time": "2022-03-13T10:53:21.535497",
     "exception": false,
     "start_time": "2022-03-13T10:53:21.424194",
     "status": "completed"
    },
    "tags": []
   },
   "outputs": [
    {
     "data": {
      "text/plain": [
       "[('اللي', 56360),\n",
       " ('الله', 47033),\n",
       " ('مش', 29466),\n",
       " ('انا', 28836),\n",
       " ('والله', 23421)]"
      ]
     },
     "execution_count": 15,
     "metadata": {},
     "output_type": "execute_result"
    }
   ],
   "source": [
    "counter.most_common(5)"
   ]
  },
  {
   "cell_type": "code",
   "execution_count": 16,
   "id": "a4f1a106",
   "metadata": {
    "execution": {
     "iopub.execute_input": "2022-03-13T10:53:21.592991Z",
     "iopub.status.busy": "2022-03-13T10:53:21.590627Z",
     "iopub.status.idle": "2022-03-13T10:53:21.657144Z",
     "shell.execute_reply": "2022-03-13T10:53:21.657586Z"
    },
    "papermill": {
     "duration": 0.099249,
     "end_time": "2022-03-13T10:53:21.657716",
     "exception": false,
     "start_time": "2022-03-13T10:53:21.558467",
     "status": "completed"
    },
    "tags": []
   },
   "outputs": [],
   "source": [
    "train_sentences = train_sentences.to_numpy()\n",
    "train_labels = pd.get_dummies(train_labels).values # One-hot expression\n",
    "val_sentences = val_sentences.to_numpy()\n",
    "val_labels = pd.get_dummies(val_labels)"
   ]
  },
  {
   "cell_type": "code",
   "execution_count": 17,
   "id": "e1e582b4",
   "metadata": {
    "execution": {
     "iopub.execute_input": "2022-03-13T10:53:21.708310Z",
     "iopub.status.busy": "2022-03-13T10:53:21.707795Z",
     "iopub.status.idle": "2022-03-13T10:53:21.712838Z",
     "shell.execute_reply": "2022-03-13T10:53:21.713240Z"
    },
    "papermill": {
     "duration": 0.03197,
     "end_time": "2022-03-13T10:53:21.713392",
     "exception": false,
     "start_time": "2022-03-13T10:53:21.681422",
     "status": "completed"
    },
    "tags": []
   },
   "outputs": [
    {
     "data": {
      "text/plain": [
       "((435287,), (22910,))"
      ]
     },
     "execution_count": 17,
     "metadata": {},
     "output_type": "execute_result"
    }
   ],
   "source": [
    "train_sentences.shape, val_sentences.shape"
   ]
  },
  {
   "cell_type": "code",
   "execution_count": 18,
   "id": "06644b6f",
   "metadata": {
    "execution": {
     "iopub.execute_input": "2022-03-13T10:53:21.765481Z",
     "iopub.status.busy": "2022-03-13T10:53:21.764818Z",
     "iopub.status.idle": "2022-03-13T10:53:21.767499Z",
     "shell.execute_reply": "2022-03-13T10:53:21.767908Z"
    },
    "papermill": {
     "duration": 0.03092,
     "end_time": "2022-03-13T10:53:21.768023",
     "exception": false,
     "start_time": "2022-03-13T10:53:21.737103",
     "status": "completed"
    },
    "tags": []
   },
   "outputs": [
    {
     "data": {
      "text/plain": [
       "((435287, 18), (22910, 18))"
      ]
     },
     "execution_count": 18,
     "metadata": {},
     "output_type": "execute_result"
    }
   ],
   "source": [
    "train_labels.shape, val_labels.shape"
   ]
  },
  {
   "cell_type": "code",
   "execution_count": 19,
   "id": "d7947029",
   "metadata": {
    "execution": {
     "iopub.execute_input": "2022-03-13T10:53:21.828140Z",
     "iopub.status.busy": "2022-03-13T10:53:21.822966Z",
     "iopub.status.idle": "2022-03-13T10:53:32.447401Z",
     "shell.execute_reply": "2022-03-13T10:53:32.446888Z"
    },
    "papermill": {
     "duration": 10.655673,
     "end_time": "2022-03-13T10:53:32.447544",
     "exception": false,
     "start_time": "2022-03-13T10:53:21.791871",
     "status": "completed"
    },
    "tags": []
   },
   "outputs": [],
   "source": [
    "# Tokenize\n",
    "# vectorize a text corpus by turning each text into a sequence of integers\n",
    "tokenizer = Tokenizer(num_words=num_unique_words)\n",
    "tokenizer.fit_on_texts(train_sentences) # fit only to training"
   ]
  },
  {
   "cell_type": "code",
   "execution_count": 20,
   "id": "925307f7",
   "metadata": {
    "execution": {
     "iopub.execute_input": "2022-03-13T10:53:32.500973Z",
     "iopub.status.busy": "2022-03-13T10:53:32.500156Z",
     "iopub.status.idle": "2022-03-13T10:53:32.501931Z",
     "shell.execute_reply": "2022-03-13T10:53:32.502388Z"
    },
    "papermill": {
     "duration": 0.030326,
     "end_time": "2022-03-13T10:53:32.502511",
     "exception": false,
     "start_time": "2022-03-13T10:53:32.472185",
     "status": "completed"
    },
    "tags": []
   },
   "outputs": [],
   "source": [
    "# Now each word has unique index\n",
    "word_index = tokenizer.word_index\n",
    "#word_index"
   ]
  },
  {
   "cell_type": "code",
   "execution_count": 21,
   "id": "994ec2ae",
   "metadata": {
    "execution": {
     "iopub.execute_input": "2022-03-13T10:53:32.594117Z",
     "iopub.status.busy": "2022-03-13T10:53:32.558369Z",
     "iopub.status.idle": "2022-03-13T10:53:42.091202Z",
     "shell.execute_reply": "2022-03-13T10:53:42.091850Z"
    },
    "papermill": {
     "duration": 9.565323,
     "end_time": "2022-03-13T10:53:42.092006",
     "exception": false,
     "start_time": "2022-03-13T10:53:32.526683",
     "status": "completed"
    },
    "tags": []
   },
   "outputs": [],
   "source": [
    "#apply on train, and validation\n",
    "\n",
    "train_sequences = tokenizer.texts_to_sequences(train_sentences)\n",
    "val_sequences = tokenizer.texts_to_sequences(val_sentences)"
   ]
  },
  {
   "cell_type": "code",
   "execution_count": 22,
   "id": "060ca1ed",
   "metadata": {
    "execution": {
     "iopub.execute_input": "2022-03-13T10:53:42.146767Z",
     "iopub.status.busy": "2022-03-13T10:53:42.146139Z",
     "iopub.status.idle": "2022-03-13T10:53:42.149044Z",
     "shell.execute_reply": "2022-03-13T10:53:42.149649Z"
    },
    "papermill": {
     "duration": 0.03291,
     "end_time": "2022-03-13T10:53:42.149815",
     "exception": false,
     "start_time": "2022-03-13T10:53:42.116905",
     "status": "completed"
    },
    "tags": []
   },
   "outputs": [
    {
     "name": "stdout",
     "output_type": "stream",
     "text": [
      "[' اه والله فعلا ربنا يسترها' ' أمين ويبارك فيك وفي عمرك يارب 🤲'\n",
      " ' هاي كلمات بيكا حسن شاكوش ايش فهمنا احنا '\n",
      " ' خطاب ريح روحك راه نديرلهن منشن'\n",
      " 'تقصقصيش جناحك عشان يوسعك الصندوق إطلعي منّو سما كبيرة بتستنّاكِ ']\n",
      "[[208, 5, 148, 56, 12720], [3316, 3084, 58, 228, 267, 33, 1379], [109, 2190, 18858, 608, 49334, 189, 5273, 27], [4324, 3166, 959, 514, 136607, 2045], [202244, 87521, 9, 136608, 8039, 105695, 28878, 3785, 635, 202245]]\n"
     ]
    }
   ],
   "source": [
    "#Check\n",
    "print(train_sentences[10:15])\n",
    "print(train_sequences[10:15])"
   ]
  },
  {
   "cell_type": "code",
   "execution_count": 23,
   "id": "d807bec1",
   "metadata": {
    "execution": {
     "iopub.execute_input": "2022-03-13T10:53:42.229791Z",
     "iopub.status.busy": "2022-03-13T10:53:42.214353Z",
     "iopub.status.idle": "2022-03-13T10:53:44.511329Z",
     "shell.execute_reply": "2022-03-13T10:53:44.512439Z"
    },
    "papermill": {
     "duration": 2.336457,
     "end_time": "2022-03-13T10:53:44.512647",
     "exception": false,
     "start_time": "2022-03-13T10:53:42.176190",
     "status": "completed"
    },
    "tags": []
   },
   "outputs": [],
   "source": [
    "# Pad the sequences to have the same length\n",
    "max_length = 15 #arbitrary number\n",
    "\n",
    "train_padded = pad_sequences(train_sequences, maxlen=max_length, padding=\"post\", truncating=\"post\") #post-> 0\n",
    "val_padded = pad_sequences(val_sequences, maxlen=max_length, padding=\"post\", truncating=\"post\")"
   ]
  },
  {
   "cell_type": "code",
   "execution_count": 24,
   "id": "309ed49d",
   "metadata": {
    "execution": {
     "iopub.execute_input": "2022-03-13T10:53:44.603737Z",
     "iopub.status.busy": "2022-03-13T10:53:44.602701Z",
     "iopub.status.idle": "2022-03-13T10:53:44.606489Z",
     "shell.execute_reply": "2022-03-13T10:53:44.604521Z"
    },
    "papermill": {
     "duration": 0.052621,
     "end_time": "2022-03-13T10:53:44.606644",
     "exception": false,
     "start_time": "2022-03-13T10:53:44.554023",
     "status": "completed"
    },
    "tags": []
   },
   "outputs": [
    {
     "data": {
      "text/plain": [
       "((435287, 15), (22910, 15))"
      ]
     },
     "execution_count": 24,
     "metadata": {},
     "output_type": "execute_result"
    }
   ],
   "source": [
    "#Check\n",
    "train_padded.shape, val_padded.shape"
   ]
  },
  {
   "cell_type": "code",
   "execution_count": 25,
   "id": "c9e1b3cb",
   "metadata": {
    "execution": {
     "iopub.execute_input": "2022-03-13T10:53:44.707970Z",
     "iopub.status.busy": "2022-03-13T10:53:44.707049Z",
     "iopub.status.idle": "2022-03-13T10:56:38.897676Z",
     "shell.execute_reply": "2022-03-13T10:56:38.896832Z"
    },
    "papermill": {
     "duration": 174.24888,
     "end_time": "2022-03-13T10:56:38.897820",
     "exception": false,
     "start_time": "2022-03-13T10:53:44.648940",
     "status": "completed"
    },
    "tags": []
   },
   "outputs": [
    {
     "name": "stderr",
     "output_type": "stream",
     "text": [
      "2022-03-13 10:53:44.791971: I tensorflow/stream_executor/cuda/cuda_gpu_executor.cc:937] successful NUMA node read from SysFS had negative value (-1), but there must be at least one NUMA node, so returning NUMA node zero\n",
      "2022-03-13 10:53:44.895026: I tensorflow/stream_executor/cuda/cuda_gpu_executor.cc:937] successful NUMA node read from SysFS had negative value (-1), but there must be at least one NUMA node, so returning NUMA node zero\n",
      "2022-03-13 10:53:44.896183: I tensorflow/stream_executor/cuda/cuda_gpu_executor.cc:937] successful NUMA node read from SysFS had negative value (-1), but there must be at least one NUMA node, so returning NUMA node zero\n",
      "2022-03-13 10:53:44.899269: I tensorflow/core/platform/cpu_feature_guard.cc:142] This TensorFlow binary is optimized with oneAPI Deep Neural Network Library (oneDNN) to use the following CPU instructions in performance-critical operations:  AVX2 AVX512F FMA\n",
      "To enable them in other operations, rebuild TensorFlow with the appropriate compiler flags.\n",
      "2022-03-13 10:53:44.900518: I tensorflow/stream_executor/cuda/cuda_gpu_executor.cc:937] successful NUMA node read from SysFS had negative value (-1), but there must be at least one NUMA node, so returning NUMA node zero\n",
      "2022-03-13 10:53:44.901826: I tensorflow/stream_executor/cuda/cuda_gpu_executor.cc:937] successful NUMA node read from SysFS had negative value (-1), but there must be at least one NUMA node, so returning NUMA node zero\n",
      "2022-03-13 10:53:44.903011: I tensorflow/stream_executor/cuda/cuda_gpu_executor.cc:937] successful NUMA node read from SysFS had negative value (-1), but there must be at least one NUMA node, so returning NUMA node zero\n",
      "2022-03-13 10:53:46.768452: I tensorflow/stream_executor/cuda/cuda_gpu_executor.cc:937] successful NUMA node read from SysFS had negative value (-1), but there must be at least one NUMA node, so returning NUMA node zero\n",
      "2022-03-13 10:53:46.769333: I tensorflow/stream_executor/cuda/cuda_gpu_executor.cc:937] successful NUMA node read from SysFS had negative value (-1), but there must be at least one NUMA node, so returning NUMA node zero\n",
      "2022-03-13 10:53:46.769973: I tensorflow/stream_executor/cuda/cuda_gpu_executor.cc:937] successful NUMA node read from SysFS had negative value (-1), but there must be at least one NUMA node, so returning NUMA node zero\n",
      "2022-03-13 10:53:46.770542: I tensorflow/core/common_runtime/gpu/gpu_device.cc:1510] Created device /job:localhost/replica:0/task:0/device:GPU:0 with 15403 MB memory:  -> device: 0, name: Tesla P100-PCIE-16GB, pci bus id: 0000:00:04.0, compute capability: 6.0\n"
     ]
    },
    {
     "name": "stdout",
     "output_type": "stream",
     "text": [
      "Model: \"sequential\"\n",
      "_________________________________________________________________\n",
      "Layer (type)                 Output Shape              Param #   \n",
      "=================================================================\n",
      "embedding (Embedding)        (None, 15, 128)           64790400  \n",
      "_________________________________________________________________\n",
      "bidirectional (Bidirectional (None, 15, 128)           98816     \n",
      "_________________________________________________________________\n",
      "bidirectional_1 (Bidirection (None, 128)               98816     \n",
      "_________________________________________________________________\n",
      "dense (Dense)                (None, 18)                2322      \n",
      "=================================================================\n",
      "Total params: 64,990,354\n",
      "Trainable params: 64,990,354\n",
      "Non-trainable params: 0\n",
      "_________________________________________________________________\n",
      "None\n",
      "Epoch 1/2\n"
     ]
    },
    {
     "name": "stderr",
     "output_type": "stream",
     "text": [
      "2022-03-13 10:53:48.003256: I tensorflow/compiler/mlir/mlir_graph_optimization_pass.cc:185] None of the MLIR Optimization Passes are enabled (registered 2)\n",
      "2022-03-13 10:53:53.448349: I tensorflow/stream_executor/cuda/cuda_dnn.cc:369] Loaded cuDNN version 8005\n"
     ]
    },
    {
     "name": "stdout",
     "output_type": "stream",
     "text": [
      "3401/3401 [==============================] - 89s 24ms/step - loss: 1.8039 - acc: 0.4307 - val_loss: 1.5391 - val_acc: 0.5232\n",
      "Epoch 2/2\n",
      "3401/3401 [==============================] - 82s 24ms/step - loss: 1.0265 - acc: 0.6835 - val_loss: 1.5755 - val_acc: 0.5273\n"
     ]
    }
   ],
   "source": [
    "model = keras.models.Sequential()\n",
    "model.add(layers.Embedding(num_unique_words, 128, input_length=max_length))\n",
    "\n",
    "model.add(layers.Bidirectional(layers.LSTM(64, return_sequences=True)))\n",
    "model.add(layers.Bidirectional(layers.LSTM(64)))\n",
    "# model.add(layers.Dense(64, activation='relu'))\n",
    "model.add(layers.Dense(18, activation=\"softmax\"))\n",
    "\n",
    "model.compile(optimizer=\"adam\", loss=\"categorical_crossentropy\",metrics=[\"acc\"])\n",
    "print(model.summary()) # Show the summary of the model\n",
    "\n",
    "history = model.fit(train_padded, train_labels, batch_size=128,\n",
    "                    epochs=2, validation_data=(val_padded, val_labels))    "
   ]
  },
  {
   "cell_type": "code",
   "execution_count": 26,
   "id": "99c4b014",
   "metadata": {
    "execution": {
     "iopub.execute_input": "2022-03-13T10:56:40.419208Z",
     "iopub.status.busy": "2022-03-13T10:56:40.418299Z",
     "iopub.status.idle": "2022-03-13T10:57:17.052127Z",
     "shell.execute_reply": "2022-03-13T10:57:17.052627Z"
    },
    "papermill": {
     "duration": 37.40343,
     "end_time": "2022-03-13T10:57:17.052770",
     "exception": false,
     "start_time": "2022-03-13T10:56:39.649340",
     "status": "completed"
    },
    "tags": []
   },
   "outputs": [
    {
     "data": {
      "text/plain": [
       "['./svm_pipe.joblib']"
      ]
     },
     "execution_count": 26,
     "metadata": {},
     "output_type": "execute_result"
    }
   ],
   "source": [
    "dump(pipe_tfidf, 'C:/Users/HP/AIM_Dialect_Prediction/svm_pipe.joblib') "
   ]
  }
 ],
 "metadata": {
  "kernelspec": {
   "display_name": "Python 3 (ipykernel)",
   "language": "python",
   "name": "python3"
  },
  "language_info": {
   "codemirror_mode": {
    "name": "ipython",
    "version": 3
   },
   "file_extension": ".py",
   "mimetype": "text/x-python",
   "name": "python",
   "nbconvert_exporter": "python",
   "pygments_lexer": "ipython3",
   "version": "3.8.8"
  },
  "papermill": {
   "default_parameters": {},
   "duration": 384.509909,
   "end_time": "2022-03-13T10:57:21.269413",
   "environment_variables": {},
   "exception": null,
   "input_path": "__notebook__.ipynb",
   "output_path": "__notebook__.ipynb",
   "parameters": {},
   "start_time": "2022-03-13T10:50:56.759504",
   "version": "2.3.3"
  }
 },
 "nbformat": 4,
 "nbformat_minor": 5
}
